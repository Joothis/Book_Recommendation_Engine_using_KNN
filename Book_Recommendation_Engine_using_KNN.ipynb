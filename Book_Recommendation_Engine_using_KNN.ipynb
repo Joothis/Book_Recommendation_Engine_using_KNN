{
  "nbformat": 4,
  "nbformat_minor": 0,
  "metadata": {
    "colab": {
      "provenance": [],
      "authorship_tag": "ABX9TyM7YFARe6qa3IqMZWD5jsY8",
      "include_colab_link": true
    },
    "kernelspec": {
      "name": "python3",
      "display_name": "Python 3"
    },
    "language_info": {
      "name": "python"
    }
  },
  "cells": [
    {
      "cell_type": "markdown",
      "metadata": {
        "id": "view-in-github",
        "colab_type": "text"
      },
      "source": [
        "<a href=\"https://colab.research.google.com/github/Joothis/Book_Recommendation_Engine_using_KNN/blob/main/Book_Recommendation_Engine_using_KNN.ipynb\" target=\"_parent\"><img src=\"https://colab.research.google.com/assets/colab-badge.svg\" alt=\"Open In Colab\"/></a>"
      ]
    },
    {
      "cell_type": "code",
      "execution_count": 1,
      "metadata": {
        "id": "lY-JifNAG4s0"
      },
      "outputs": [],
      "source": [
        "import pandas as pd\n",
        "import numpy as np\n",
        "from sklearn.neighbors import NearestNeighbors\n",
        "import matplotlib.pyplot as plt"
      ]
    },
    {
      "cell_type": "code",
      "source": [
        "books = pd.read_csv(\"/content/google_books.csv\")  # Adjust the file path if needed\n",
        "print(books.head())  # Check first 5 rows\n",
        "print(books.columns) # Print column names to verify structure\n"
      ],
      "metadata": {
        "colab": {
          "base_uri": "https://localhost:8080/"
        },
        "id": "emBjLmKGHEke",
        "outputId": "4b7d122c-920d-42b6-9d34-40a4cf6111ed"
      },
      "execution_count": 18,
      "outputs": [
        {
          "output_type": "stream",
          "name": "stdout",
          "text": [
            "   Unnamed: 0                                             title  \\\n",
            "0           0                        Attack on Titan: Volume 13   \n",
            "1           1  Antiques Roadkill: A Trash 'n' Treasures Mystery   \n",
            "2           2                    The Art of Super Mario Odyssey   \n",
            "3           3    Getting Away Is Deadly: An Ellie Avery Mystery   \n",
            "4           4         The Painted Man (The Demon Cycle, Book 1)   \n",
            "\n",
            "           author  rating voters   price currency  \\\n",
            "0  Hajime Isayama     4.6    428   43.28      SAR   \n",
            "1   Barbara Allan     3.3     23   26.15      SAR   \n",
            "2        Nintendo     3.9      9  133.85      SAR   \n",
            "3     Sara Rosett     4.0     10   26.15      SAR   \n",
            "4  Peter V. Brett     4.5    577   28.54      SAR   \n",
            "\n",
            "                                         description  \\\n",
            "0  NO SAFE PLACE LEFT At great cost to the Garris...   \n",
            "1  Determined to make a new start in her quaint h...   \n",
            "2  Take a globetrotting journey all over the worl...   \n",
            "3  With swollen feet and swelling belly, pregnant...   \n",
            "4  The stunning debut fantasy novel from author P...   \n",
            "\n",
            "                     publisher  page_count  \\\n",
            "0              Kodansha Comics         192   \n",
            "1  Kensington Publishing Corp.         288   \n",
            "2            Dark Horse Comics         368   \n",
            "3  Kensington Publishing Corp.         320   \n",
            "4             HarperCollins UK         544   \n",
            "\n",
            "                                             generes           ISBN language  \\\n",
            "0                                               none  9781612626864  English   \n",
            "1  Fiction , Mystery &amp, Detective , Cozy , Gen...  9780758272799  English   \n",
            "2    Games &amp, Activities , Video &amp, Electronic  9781506713816  English   \n",
            "3                                               none  9781617734076  English   \n",
            "4                   Fiction , Fantasy , Dark Fantasy  9780007287758  English   \n",
            "\n",
            "  published_date  \n",
            "0   Jul 31, 2014  \n",
            "1    Jul 1, 2007  \n",
            "2    Nov 5, 2019  \n",
            "3    Mar 1, 2009  \n",
            "4    Jan 8, 2009  \n",
            "Index(['Unnamed: 0', 'title', 'author', 'rating', 'voters', 'price',\n",
            "       'currency', 'description', 'publisher', 'page_count', 'generes', 'ISBN',\n",
            "       'language', 'published_date'],\n",
            "      dtype='object')\n"
          ]
        }
      ]
    },
    {
      "cell_type": "code",
      "source": [
        "# Remove the first column (user_id)\n",
        "books = books.rename(columns={books.columns[0]: 'user_id'})\n",
        "\n",
        "print(books.head()) # Print first 5 rows again to verify the change\n"
      ],
      "metadata": {
        "colab": {
          "base_uri": "https://localhost:8080/"
        },
        "id": "OJ-jUkJZMKLw",
        "outputId": "131647fb-cfb3-4b15-e54e-528674ea19b7"
      },
      "execution_count": 22,
      "outputs": [
        {
          "output_type": "stream",
          "name": "stdout",
          "text": [
            "   Unnamed: 0                                             title  \\\n",
            "0           0                        Attack on Titan: Volume 13   \n",
            "1           1  Antiques Roadkill: A Trash 'n' Treasures Mystery   \n",
            "2           2                    The Art of Super Mario Odyssey   \n",
            "3           3    Getting Away Is Deadly: An Ellie Avery Mystery   \n",
            "4           4         The Painted Man (The Demon Cycle, Book 1)   \n",
            "\n",
            "           author  rating voters   price currency  \\\n",
            "0  Hajime Isayama     4.6    428   43.28      SAR   \n",
            "1   Barbara Allan     3.3     23   26.15      SAR   \n",
            "2        Nintendo     3.9      9  133.85      SAR   \n",
            "3     Sara Rosett     4.0     10   26.15      SAR   \n",
            "4  Peter V. Brett     4.5    577   28.54      SAR   \n",
            "\n",
            "                                         description  \\\n",
            "0  NO SAFE PLACE LEFT At great cost to the Garris...   \n",
            "1  Determined to make a new start in her quaint h...   \n",
            "2  Take a globetrotting journey all over the worl...   \n",
            "3  With swollen feet and swelling belly, pregnant...   \n",
            "4  The stunning debut fantasy novel from author P...   \n",
            "\n",
            "                     publisher  page_count  \\\n",
            "0              Kodansha Comics         192   \n",
            "1  Kensington Publishing Corp.         288   \n",
            "2            Dark Horse Comics         368   \n",
            "3  Kensington Publishing Corp.         320   \n",
            "4             HarperCollins UK         544   \n",
            "\n",
            "                                             generes           ISBN language  \\\n",
            "0                                               none  9781612626864  English   \n",
            "1  Fiction , Mystery &amp, Detective , Cozy , Gen...  9780758272799  English   \n",
            "2    Games &amp, Activities , Video &amp, Electronic  9781506713816  English   \n",
            "3                                               none  9781617734076  English   \n",
            "4                   Fiction , Fantasy , Dark Fantasy  9780007287758  English   \n",
            "\n",
            "  published_date  \n",
            "0   Jul 31, 2014  \n",
            "1    Jul 1, 2007  \n",
            "2    Nov 5, 2019  \n",
            "3    Mar 1, 2009  \n",
            "4    Jan 8, 2009  \n",
            "Index(['Unnamed: 0', 'title', 'author', 'rating', 'voters', 'price',\n",
            "       'currency', 'description', 'publisher', 'page_count', 'generes', 'ISBN',\n",
            "       'language', 'published_date'],\n",
            "      dtype='object')\n",
            "   user_id                                             title          author  \\\n",
            "0        0                        Attack on Titan: Volume 13  Hajime Isayama   \n",
            "1        1  Antiques Roadkill: A Trash 'n' Treasures Mystery   Barbara Allan   \n",
            "2        2                    The Art of Super Mario Odyssey        Nintendo   \n",
            "3        3    Getting Away Is Deadly: An Ellie Avery Mystery     Sara Rosett   \n",
            "4        4         The Painted Man (The Demon Cycle, Book 1)  Peter V. Brett   \n",
            "\n",
            "   rating voters   price currency  \\\n",
            "0     4.6    428   43.28      SAR   \n",
            "1     3.3     23   26.15      SAR   \n",
            "2     3.9      9  133.85      SAR   \n",
            "3     4.0     10   26.15      SAR   \n",
            "4     4.5    577   28.54      SAR   \n",
            "\n",
            "                                         description  \\\n",
            "0  NO SAFE PLACE LEFT At great cost to the Garris...   \n",
            "1  Determined to make a new start in her quaint h...   \n",
            "2  Take a globetrotting journey all over the worl...   \n",
            "3  With swollen feet and swelling belly, pregnant...   \n",
            "4  The stunning debut fantasy novel from author P...   \n",
            "\n",
            "                     publisher  page_count  \\\n",
            "0              Kodansha Comics         192   \n",
            "1  Kensington Publishing Corp.         288   \n",
            "2            Dark Horse Comics         368   \n",
            "3  Kensington Publishing Corp.         320   \n",
            "4             HarperCollins UK         544   \n",
            "\n",
            "                                             generes           ISBN language  \\\n",
            "0                                               none  9781612626864  English   \n",
            "1  Fiction , Mystery &amp, Detective , Cozy , Gen...  9780758272799  English   \n",
            "2    Games &amp, Activities , Video &amp, Electronic  9781506713816  English   \n",
            "3                                               none  9781617734076  English   \n",
            "4                   Fiction , Fantasy , Dark Fantasy  9780007287758  English   \n",
            "\n",
            "  published_date  \n",
            "0   Jul 31, 2014  \n",
            "1    Jul 1, 2007  \n",
            "2    Nov 5, 2019  \n",
            "3    Mar 1, 2009  \n",
            "4    Jan 8, 2009  \n"
          ]
        }
      ]
    },
    {
      "cell_type": "code",
      "source": [
        "print(books.isnull().sum())  # Check for missing values\n"
      ],
      "metadata": {
        "colab": {
          "base_uri": "https://localhost:8080/"
        },
        "id": "CVPdBPDpHEg9",
        "outputId": "b14dfad0-1f76-45bb-c26b-075c1e9c1e7d"
      },
      "execution_count": 19,
      "outputs": [
        {
          "output_type": "stream",
          "name": "stdout",
          "text": [
            "Unnamed: 0         0\n",
            "title              0\n",
            "author             0\n",
            "rating            75\n",
            "voters            75\n",
            "price              0\n",
            "currency           0\n",
            "description        3\n",
            "publisher          0\n",
            "page_count         0\n",
            "generes            0\n",
            "ISBN               0\n",
            "language           0\n",
            "published_date     0\n",
            "dtype: int64\n"
          ]
        }
      ]
    },
    {
      "cell_type": "code",
      "source": [
        "books.dropna(inplace=True)  # Drop missing values (if necessary)\n"
      ],
      "metadata": {
        "id": "K53eREQSHESZ"
      },
      "execution_count": 20,
      "outputs": []
    },
    {
      "cell_type": "code",
      "source": [
        "book_user_matrix = books.pivot_table(index='user_id', columns='title', values='rating', fill_value=0)\n",
        "print(\"Shape of book_user_matrix:\", book_user_matrix.shape)\n"
      ],
      "metadata": {
        "colab": {
          "base_uri": "https://localhost:8080/"
        },
        "id": "qAx5I8v1HEO3",
        "outputId": "d2d2cc92-d8c9-453e-a8ac-1dfa106133a2"
      },
      "execution_count": 23,
      "outputs": [
        {
          "output_type": "stream",
          "name": "stdout",
          "text": [
            "Shape of book_user_matrix: (1224, 232)\n"
          ]
        }
      ]
    },
    {
      "cell_type": "code",
      "source": [
        "def get_recommends(book_title):\n",
        "    # Check if book exists\n",
        "    if book_title not in book_user_matrix.columns:\n",
        "        return f\"Error: '{book_title}' not found in the dataset.\"\n",
        "\n",
        "    # Get the book vector\n",
        "    book_vector = book_user_matrix[book_title].values.reshape(1, -1)\n",
        "\n",
        "    # Find nearest neighbors\n",
        "    distances, indices = knn_model.kneighbors(book_vector, n_neighbors=6)  # 6 includes the book itself\n",
        "\n",
        "    # Get recommended books\n",
        "    similar_books = [book_user_matrix.columns[i] for i in indices.flatten()]\n",
        "    return similar_books[1:]  # Exclude the first book (itself)\n"
      ],
      "metadata": {
        "id": "7Vw3jiobH7BH"
      },
      "execution_count": 24,
      "outputs": []
    },
    {
      "cell_type": "code",
      "source": [
        "print(get_recommends(\"The Queen of the Damned (Vampire Chronicles (Paperback))\"))\n"
      ],
      "metadata": {
        "colab": {
          "base_uri": "https://localhost:8080/"
        },
        "id": "xaCxhQ11H-G9",
        "outputId": "e77221e4-ef02-4d4b-ebfc-9079f32322d8"
      },
      "execution_count": 28,
      "outputs": [
        {
          "output_type": "stream",
          "name": "stdout",
          "text": [
            "Error: 'The Queen of the Damned (Vampire Chronicles (Paperback))' not found in the dataset.\n"
          ]
        }
      ]
    }
  ]
}